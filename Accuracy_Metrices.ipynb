{
 "cells": [
  {
   "cell_type": "code",
   "execution_count": 1,
   "id": "e0528baa",
   "metadata": {},
   "outputs": [],
   "source": [
    "import json\n",
    "import math\n",
    "from tqdm import tqdm\n",
    "\n",
    "from evaluation_metrices import Evaluator\n",
    "    \n",
    "training_dataset_ground_truth_file_path = \"datasets/final_correct_datasets/training/parsed_data_final.json\"\n",
    "training_dataset_predicted_file_path = 'Traditional_IR/Results/bm25_training_results.json'"
   ]
  },
  {
   "cell_type": "code",
   "execution_count": 3,
   "id": "9016d9e6",
   "metadata": {},
   "outputs": [],
   "source": [
    "\n",
    "def load_json(file_path):\n",
    "    with open(file_path, 'r', encoding='utf-8') as f:\n",
    "        data = json.load(f)\n",
    "        return data\n"
   ]
  },
  {
   "cell_type": "code",
   "execution_count": null,
   "id": "115ba880",
   "metadata": {},
   "outputs": [
    {
     "name": "stderr",
     "output_type": "stream",
     "text": [
      "Processing questions...: 5390it [00:00, 71990.89it/s]\n"
     ]
    },
    {
     "ename": "TypeError",
     "evalue": "unsupported operand type(s) for *: 'builtin_function_or_method' and 'int'",
     "output_type": "error",
     "traceback": [
      "\u001b[1;31m---------------------------------------------------------------------------\u001b[0m",
      "\u001b[1;31mTypeError\u001b[0m                                 Traceback (most recent call last)",
      "Cell \u001b[1;32mIn[6], line 8\u001b[0m\n\u001b[0;32m      4\u001b[0m evaluator \u001b[38;5;241m=\u001b[39m Evaluator(ground_truth_data\u001b[38;5;241m=\u001b[39mground_truth_data, predicted_data\u001b[38;5;241m=\u001b[39mpredicted_data)\n\u001b[0;32m      5\u001b[0m results \u001b[38;5;241m=\u001b[39m evaluator\u001b[38;5;241m.\u001b[39mevaluate_metrics_for_articles(k\u001b[38;5;241m=\u001b[39m\u001b[38;5;241m10\u001b[39m)\n\u001b[1;32m----> 8\u001b[0m \u001b[38;5;28mprint\u001b[39m(\u001b[43mresults\u001b[49m\u001b[38;5;241;43m.\u001b[39;49m\u001b[43mvalues\u001b[49m\u001b[43m \u001b[49m\u001b[38;5;241;43m*\u001b[39;49m\u001b[43m \u001b[49m\u001b[38;5;241;43m100\u001b[39;49m)\n",
      "\u001b[1;31mTypeError\u001b[0m: unsupported operand type(s) for *: 'builtin_function_or_method' and 'int'"
     ]
    }
   ],
   "source": [
    "ground_truth_data = load_json(training_dataset_ground_truth_file_path)\n",
    "predicted_data = load_json(training_dataset_predicted_file_path)\n",
    "\n",
    "evaluator = Evaluator(ground_truth_data=ground_truth_data, predicted_data=predicted_data)\n",
    "results = evaluator.evaluate_metrics_for_articles(k=10)\n",
    "\n",
    "evaluator.print_results(results=results)\n"
   ]
  },
  {
   "cell_type": "code",
   "execution_count": 5,
   "id": "8196d56e",
   "metadata": {},
   "outputs": [
    {
     "name": "stderr",
     "output_type": "stream",
     "text": [
      "Evaluating snippets...: 5390it [00:38, 141.30it/s]"
     ]
    },
    {
     "name": "stdout",
     "output_type": "stream",
     "text": [
      "{'P_snip': 0.08541014641560746, 'R_snip': 0.5150133148335456, 'F1_snip': 0.12999457864552363, 'MAP_snip': 0.382704382948795, 'GMAP_snip': 0.06830592643020705, 'count': 5390}\n"
     ]
    },
    {
     "name": "stderr",
     "output_type": "stream",
     "text": [
      "\n"
     ]
    }
   ],
   "source": [
    "results_snippets = evaluator.evaluate_metrics_for_snippets()\n",
    "print(results_snippets)"
   ]
  }
 ],
 "metadata": {
  "kernelspec": {
   "display_name": "air_env",
   "language": "python",
   "name": "python3"
  },
  "language_info": {
   "codemirror_mode": {
    "name": "ipython",
    "version": 3
   },
   "file_extension": ".py",
   "mimetype": "text/x-python",
   "name": "python",
   "nbconvert_exporter": "python",
   "pygments_lexer": "ipython3",
   "version": "3.10.16"
  }
 },
 "nbformat": 4,
 "nbformat_minor": 5
}
