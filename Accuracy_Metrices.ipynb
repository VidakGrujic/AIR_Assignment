{
 "cells": [
  {
   "cell_type": "code",
   "execution_count": 6,
   "id": "e0528baa",
   "metadata": {},
   "outputs": [],
   "source": [
    "import json\n",
    "import math\n",
    "from tqdm import tqdm\n",
    "from evaluation_metrices import Evaluator\n",
    "    \n",
    "training_dataset_ground_truth_file_path = \"datasets/final_correct_datasets/training/parsed_data_final.json\"\n",
    "training_dataset_predicted_file_path = 'Traditional_IR/Results/bm25_training_results.json'"
   ]
  },
  {
   "cell_type": "code",
   "execution_count": 7,
   "id": "9016d9e6",
   "metadata": {},
   "outputs": [],
   "source": [
    "import json\n",
    "\n",
    "def load_json(file_path):\n",
    "    with open(file_path, 'r', encoding='utf-8') as f:\n",
    "        data = json.load(f)\n",
    "        return data\n"
   ]
  },
  {
   "cell_type": "code",
   "execution_count": 9,
   "id": "115ba880",
   "metadata": {},
   "outputs": [
    {
     "name": "stderr",
     "output_type": "stream",
     "text": [
      "Processing questions...: 5390it [00:00, 97913.29it/s]"
     ]
    },
    {
     "name": "stdout",
     "output_type": "stream",
     "text": [
      "{'MRR': 0.8120547309833032, 'MAP': 0.5138563827722564, 'nDCG@10': 0.695807757744625, 'count': 5390}\n"
     ]
    },
    {
     "name": "stderr",
     "output_type": "stream",
     "text": [
      "\n"
     ]
    }
   ],
   "source": [
    "ground_truth_data = load_json(training_dataset_ground_truth_file_path)\n",
    "predicted_data = load_json(training_dataset_predicted_file_path)\n",
    "\n",
    "evaluator = Evaluator(ground_truth_data=ground_truth_data, predicted_data=predicted_data)\n",
    "results = evaluator.evaluate_metrics_for_articles(k=10)\n",
    "\n",
    "print(results)"
   ]
  },
  {
   "cell_type": "code",
   "execution_count": null,
   "id": "8196d56e",
   "metadata": {},
   "outputs": [],
   "source": []
  }
 ],
 "metadata": {
  "kernelspec": {
   "display_name": "air_env",
   "language": "python",
   "name": "python3"
  },
  "language_info": {
   "codemirror_mode": {
    "name": "ipython",
    "version": 3
   },
   "file_extension": ".py",
   "mimetype": "text/x-python",
   "name": "python",
   "nbconvert_exporter": "python",
   "pygments_lexer": "ipython3",
   "version": "3.10.16"
  }
 },
 "nbformat": 4,
 "nbformat_minor": 5
}
