{
 "cells": [
  {
   "cell_type": "code",
   "execution_count": 1,
   "id": "4807ac91",
   "metadata": {},
   "outputs": [
    {
     "name": "stderr",
     "output_type": "stream",
     "text": [
      "[nltk_data] Downloading package punkt to\n",
      "[nltk_data]     C:\\Users\\Vidak\\AppData\\Roaming\\nltk_data...\n",
      "[nltk_data]   Package punkt is already up-to-date!\n"
     ]
    }
   ],
   "source": [
    "import os\n",
    "import shutil\n",
    "import tempfile\n",
    "from tqdm import tqdm\n",
    "import json\n",
    "import re\n",
    "from collections import defaultdict\n",
    "from rank_bm25 import BM25Okapi\n",
    "import nltk\n",
    "from nltk.tokenize import sent_tokenize\n",
    "nltk.download('punkt')\n",
    "from data_manipulation import DataManipulator\n",
    "from evaluation_metrices import Evaluator \n",
    "\n",
    "data_manipulator = DataManipulator()\n",
    "\n",
    "corpus_path = 'Traditional_IR/tokenized_corpus.jsonl'\n",
    "all_articles_file_path = \"datasets/final_correct_datasets/all_retrieved_articles.json\"\n",
    "training_ground_truth_folder_path = \"datasets/final_correct_datasets/training\"\n",
    "test_ground_truth_folder_path = \"datasets/final_correct_datasets/test\"\n",
    "total_article_target = 70000"
   ]
  },
  {
   "cell_type": "code",
   "execution_count": 2,
   "id": "7bb698f2",
   "metadata": {},
   "outputs": [],
   "source": [
    "def tokenize(text):\n",
    "    text = text.lower()\n",
    "    text = re.sub(r'[^a-z0-9\\s]', '', text)\n",
    "    return text.split()\n",
    "\n",
    "\n",
    "def prepare_corpus_cached(articles, corpus_path='tokenized_corpus.jsonl'):\n",
    "    \"\"\"\n",
    "    Tokenizes and caches the corpus to disk. If already exists, loads it.\n",
    "    Returns tokenized corpus and article_refs.\n",
    "    \"\"\"\n",
    "    if os.path.exists(corpus_path):\n",
    "        print(f\"Loading cached corpus from {corpus_path}...\")\n",
    "        corpus = []\n",
    "        article_refs = []\n",
    "        with open(corpus_path, 'r', encoding='utf-8') as f:\n",
    "            for line in f:\n",
    "                entry = json.loads(line)\n",
    "                corpus.append(entry['tokens'])\n",
    "                article_refs.append(entry['meta'])\n",
    "        return corpus, article_refs\n",
    "\n",
    "    print(f\"Creating and caching corpus to {corpus_path}...\")\n",
    "    corpus = []\n",
    "    article_refs = []\n",
    "\n",
    "    with open(corpus_path, 'w', encoding='utf-8') as f:\n",
    "        for article in tqdm(articles, desc=\"Tokenizing articles...\"):\n",
    "            title = article.get('title', '')\n",
    "            abstract = article.get('abstract', '')\n",
    "            text = f\"{title} {abstract}\".strip()\n",
    "\n",
    "            if not text:\n",
    "                continue\n",
    "\n",
    "            tokens = tokenize(text)\n",
    "            if tokens:\n",
    "                record = {\n",
    "                    'tokens': tokens,\n",
    "                    'meta': {\n",
    "                        'pid': article.get('pid', ''),\n",
    "                        'title': title,\n",
    "                        'abstract': abstract\n",
    "                    }\n",
    "                }\n",
    "                f.write(json.dumps(record, ensure_ascii=False) + \"\\n\")\n",
    "                corpus.append(tokens)\n",
    "                article_refs.append(record['meta'])\n",
    "\n",
    "    return corpus, article_refs"
   ]
  },
  {
   "cell_type": "code",
   "execution_count": 3,
   "id": "3bef030c",
   "metadata": {},
   "outputs": [],
   "source": [
    "def get_bm25_corpus():\n",
    "    training_ground_truth = data_manipulator.get_ground_truth_from_all_files(training_ground_truth_folder_path)\n",
    "    test_ground_truth = data_manipulator.get_ground_truth_from_all_files(test_ground_truth_folder_path)\n",
    "\n",
    "    ground_truth_data = training_ground_truth + test_ground_truth\n",
    "\n",
    "    sampled_articles = []\n",
    "\n",
    "   \n",
    "    all_articles = data_manipulator.get_all_articles(all_articles_file_path)\n",
    "    sampled_articles = data_manipulator.build_article_dataset_with_ground_truth(ground_truth_data, \n",
    "                                                                                all_articles, \n",
    "                                                                                total_articles_target=total_article_target)\n",
    "    \n",
    "    corpus, article_refs = prepare_corpus_cached(sampled_articles, corpus_path)    \n",
    "    \n",
    "    return corpus, article_refs"
   ]
  },
  {
   "cell_type": "code",
   "execution_count": 4,
   "id": "88b2e506",
   "metadata": {},
   "outputs": [],
   "source": [
    "# --- BM25 Ranking ---\n",
    "\n",
    "def rank_articles_bm25(question, bm25, article_refs):\n",
    "    query = tokenize(question)\n",
    "    scores = bm25.get_scores(query)\n",
    "    ranked_indices = sorted(range(len(scores)), key=lambda i: scores[i], reverse=True)\n",
    "\n",
    "    top_10 = []\n",
    "    for i in ranked_indices[:10]:\n",
    "        article = article_refs[i]\n",
    "        top_10.append({\n",
    "            'pid': article.get('pid', ''),\n",
    "            'title': article.get('title', ''),\n",
    "            'abstract': article.get('abstract', ''),\n",
    "            'score': float(scores[i])\n",
    "        })\n",
    "\n",
    "    return top_10"
   ]
  },
  {
   "cell_type": "code",
   "execution_count": 5,
   "id": "35e65835",
   "metadata": {},
   "outputs": [],
   "source": [
    "\n",
    "\n",
    "def extract_snippets(question, top_articles, max_snippets_per_article=1, context_window=1):\n",
    "    query_terms = set(tokenize(question))\n",
    "    snippets = []\n",
    "\n",
    "    for article in top_articles:\n",
    "        pid = article.get('pid', '')\n",
    "        for section in ['title', 'abstract']:\n",
    "            field_text = article.get(section, '')\n",
    "            if not field_text:\n",
    "                continue\n",
    "\n",
    "            sentences = sent_tokenize(field_text)\n",
    "            scored_snippets = []\n",
    "\n",
    "            for i, sentence in enumerate(sentences):\n",
    "                tokens = set(tokenize(sentence))\n",
    "                overlap = query_terms & tokens\n",
    "                if overlap:\n",
    "                    # Create snippet with context\n",
    "                    start_idx = max(0, i - context_window)\n",
    "                    end_idx = min(len(sentences), i + context_window + 1)\n",
    "                    snippet_sentences = sentences[start_idx:end_idx]\n",
    "                    snippet_text = ' '.join(snippet_sentences)\n",
    "\n",
    "                    # Compute offsets in the original section text\n",
    "                    try:\n",
    "                        offset_start = field_text.index(snippet_sentences[0])\n",
    "                        offset_end = field_text.index(snippet_sentences[-1]) + len(snippet_sentences[-1])\n",
    "                    except ValueError:\n",
    "                        offset_start, offset_end = 0, min(len(field_text), 512)\n",
    "\n",
    "                    scored_snippets.append((len(overlap), snippet_text, offset_start, offset_end))\n",
    "\n",
    "            # Sort and keep top snippets\n",
    "            scored_snippets.sort(reverse=True, key=lambda x: x[0])\n",
    "            for _, snippet_text, offset_start, offset_end in scored_snippets[:max_snippets_per_article]:\n",
    "                snippets.append({\n",
    "                    \"beginSection\": section,\n",
    "                    \"endSection\": section,\n",
    "                    \"text\": snippet_text,\n",
    "                    \"document\": pid,\n",
    "                    \"offsetInBeginSection\": offset_start,\n",
    "                    \"offsetInEndSection\": offset_end\n",
    "                })\n",
    "\n",
    "    return snippets\n"
   ]
  },
  {
   "cell_type": "code",
   "execution_count": 6,
   "id": "f3b68c42",
   "metadata": {},
   "outputs": [],
   "source": [
    "def save_results(results, output_file):\n",
    "    with open(output_file, 'w', encoding='utf-8') as f:\n",
    "        json.dump(results, f, indent=2, ensure_ascii=False)\n"
   ]
  },
  {
   "cell_type": "code",
   "execution_count": 7,
   "id": "bfaf9a8b",
   "metadata": {},
   "outputs": [],
   "source": [
    "# --- Ranking All Questions ---\n",
    "\n",
    "def rank_all_questions_bm25(questions, corpus, article_refs):\n",
    "    #corpus, article_refs = prepare_corpus_cached(articles, corpus_path=corpus_path)\n",
    "    bm25 = BM25Okapi(corpus)\n",
    "\n",
    "    results_by_question = []\n",
    "\n",
    "    for entry in tqdm(questions, desc=\"Ranking questions with full article set...\"):\n",
    "        question = entry['question']\n",
    "        qid = entry['qid']\n",
    "        top_articles = rank_articles_bm25(question, bm25, article_refs)\n",
    "        snippets = extract_snippets(question, top_articles)\n",
    "\n",
    "        results_by_question.append({\n",
    "            'id': qid,\n",
    "            'question': question,\n",
    "            'top_10_articles': top_articles,\n",
    "            'snippets': snippets\n",
    "        })\n",
    "\n",
    "    return { 'data': results_by_question }"
   ]
  },
  {
   "cell_type": "code",
   "execution_count": 8,
   "id": "e888c98e",
   "metadata": {},
   "outputs": [
    {
     "name": "stdout",
     "output_type": "stream",
     "text": [
      "Loading cached corpus from Traditional_IR/tokenized_corpus.jsonl...\n"
     ]
    },
    {
     "name": "stderr",
     "output_type": "stream",
     "text": [
      "Ranking questions with full article set...: 100%|██████████| 5390/5390 [1:14:00<00:00,  1.21it/s]\n"
     ]
    }
   ],
   "source": [
    "corpus, article_refs = get_bm25_corpus()\n",
    "training_questions = data_manipulator.get_questions_from_data(data_manipulator.get_ground_truth_from_all_files(training_ground_truth_folder_path))\n",
    "results = rank_all_questions_bm25(questions=training_questions, corpus=corpus, article_refs=article_refs)"
   ]
  },
  {
   "cell_type": "code",
   "execution_count": 9,
   "id": "30e01830",
   "metadata": {},
   "outputs": [],
   "source": [
    "save_results(results=results, output_file='Traditional_IR/bm25_training_results.json')"
   ]
  },
  {
   "cell_type": "code",
   "execution_count": 10,
   "id": "c4ad7351",
   "metadata": {},
   "outputs": [
    {
     "name": "stderr",
     "output_type": "stream",
     "text": [
      "Ranking questions with full article set...: 100%|██████████| 85/85 [01:11<00:00,  1.20it/s]\n",
      "Ranking questions with full article set...: 100%|██████████| 85/85 [01:12<00:00,  1.18it/s]\n",
      "Ranking questions with full article set...: 100%|██████████| 85/85 [01:11<00:00,  1.19it/s]\n",
      "Ranking questions with full article set...: 100%|██████████| 85/85 [01:04<00:00,  1.32it/s]\n"
     ]
    }
   ],
   "source": [
    "# test\n",
    "for i in range(4):\n",
    "    file_path = f'datasets/final_correct_datasets/test/parsed_data_final_test_batch_{i+1}.json'\n",
    "\n",
    "    test_questions = data_manipulator.get_questions_from_data(data_manipulator.get_ground_truth_one_file(file_path=file_path))\n",
    "\n",
    "    results = rank_all_questions_bm25(questions=test_questions, corpus=corpus, article_refs=article_refs)\n",
    "\n",
    "    save_results(results, output_file=f'Traditional_IR/bm25_test_batch_{i+1}_results.json')"
   ]
  },
  {
   "cell_type": "markdown",
   "id": "942cbf63",
   "metadata": {},
   "source": [
    "### Evaluation "
   ]
  },
  {
   "cell_type": "code",
   "execution_count": 2,
   "id": "ba4adb39",
   "metadata": {},
   "outputs": [],
   "source": [
    "def load_json(file_path):\n",
    "    with open(file_path, 'r', encoding='utf-8') as f:\n",
    "        data = json.load(f)\n",
    "        return data"
   ]
  },
  {
   "cell_type": "markdown",
   "id": "66ae6e02",
   "metadata": {},
   "source": [
    "Evaluation of training data\n"
   ]
  },
  {
   "cell_type": "code",
   "execution_count": 3,
   "id": "cecb20f6",
   "metadata": {},
   "outputs": [],
   "source": [
    "training_dataset_ground_truth_file_path = \"datasets/final_correct_datasets/training/parsed_data_final.json\"\n",
    "training_dataset_predicted_file_path = 'Traditional_IR/Results/bm25_training_results.json'\n",
    "\n",
    "ground_truth_data = load_json(training_dataset_ground_truth_file_path)\n",
    "predicted_data = load_json(training_dataset_predicted_file_path)\n",
    "\n",
    "evaluator_training = Evaluator(ground_truth_data=ground_truth_data, predicted_data=predicted_data)\n",
    "\n"
   ]
  },
  {
   "cell_type": "code",
   "execution_count": 4,
   "id": "65c2dceb",
   "metadata": {},
   "outputs": [
    {
     "name": "stderr",
     "output_type": "stream",
     "text": [
      "Processing questions...: 5390it [00:00, 77040.48it/s]\n",
      "Evaluating snippets...: 5390it [00:07, 682.29it/s]\n"
     ]
    }
   ],
   "source": [
    "results_articles = evaluator_training.evaluate_metrics_for_articles(k=10)\n",
    "results_snippets = evaluator_training.evaluate_metrics_for_snippets()"
   ]
  },
  {
   "cell_type": "code",
   "execution_count": 5,
   "id": "8ff9d5f7",
   "metadata": {},
   "outputs": [
    {
     "name": "stdout",
     "output_type": "stream",
     "text": [
      "Training results for articles: \n",
      "MRR: 81.21\n",
      "MAP: 51.39\n",
      "nDCG@10: 69.58\n",
      "P_article: 40.38\n",
      "R_article: 59.54\n",
      "F1_article: 37.96\n",
      "GMAP: 15.13\n",
      "\n",
      "Training results for snippets:\n",
      "P_snip: 0.03\n",
      "R_snip: 0.09\n",
      "F1_snip: 0.04\n",
      "MAP_snip: 0.07\n",
      "GMAP_snip: 0.0\n"
     ]
    }
   ],
   "source": [
    "print(\"Training results for articles: \")\n",
    "evaluator_training.print_results(results_articles)\n",
    "\n",
    "print(\"\\nTraining results for snippets:\")\n",
    "evaluator_training.print_results(results_snippets)"
   ]
  },
  {
   "cell_type": "markdown",
   "id": "63a56bb5",
   "metadata": {},
   "source": [
    "Evaluation of test"
   ]
  },
  {
   "cell_type": "code",
   "execution_count": 6,
   "id": "48344ff2",
   "metadata": {},
   "outputs": [
    {
     "name": "stderr",
     "output_type": "stream",
     "text": [
      "Processing questions...: 85it [00:00, 81882.37it/s]\n",
      "Evaluating snippets...: 85it [00:00, 728.78it/s]\n"
     ]
    },
    {
     "name": "stdout",
     "output_type": "stream",
     "text": [
      "Test results articles for test batch 1 \n",
      "MRR: 68.9\n",
      "MAP: 57.21\n",
      "nDCG@10: 62.56\n",
      "P_article: 14.73\n",
      "R_article: 65.96\n",
      "F1_article: 22.73\n",
      "GMAP: 3.97\n",
      "\n",
      "Test results snippets for test batch 1 \n",
      "P_snip: 0.0\n",
      "R_snip: 0.0\n",
      "F1_snip: 0.0\n",
      "MAP_snip: 0.0\n",
      "GMAP_snip: 0.0\n",
      "\n"
     ]
    },
    {
     "name": "stderr",
     "output_type": "stream",
     "text": [
      "Processing questions...: 85it [00:00, ?it/s]\n",
      "Evaluating snippets...: 85it [00:00, 851.31it/s]\n"
     ]
    },
    {
     "name": "stdout",
     "output_type": "stream",
     "text": [
      "Test results articles for test batch 2 \n",
      "MRR: 69.98\n",
      "MAP: 55.46\n",
      "nDCG@10: 62.67\n",
      "P_article: 16.24\n",
      "R_article: 67.82\n",
      "F1_article: 24.61\n",
      "GMAP: 5.29\n",
      "\n",
      "Test results snippets for test batch 2 \n",
      "P_snip: 0.0\n",
      "R_snip: 0.0\n",
      "F1_snip: 0.0\n",
      "MAP_snip: 0.0\n",
      "GMAP_snip: 0.0\n",
      "\n"
     ]
    },
    {
     "name": "stderr",
     "output_type": "stream",
     "text": [
      "Processing questions...: 85it [00:00, ?it/s]\n",
      "Evaluating snippets...: 85it [00:00, 724.32it/s]\n"
     ]
    },
    {
     "name": "stdout",
     "output_type": "stream",
     "text": [
      "Test results articles for test batch 3 \n",
      "MRR: 70.29\n",
      "MAP: 51.96\n",
      "nDCG@10: 59.8\n",
      "P_article: 16.55\n",
      "R_article: 63.75\n",
      "F1_article: 24.74\n",
      "GMAP: 6.28\n",
      "\n",
      "Test results snippets for test batch 3 \n",
      "P_snip: 0.07\n",
      "R_snip: 0.08\n",
      "F1_snip: 0.07\n",
      "MAP_snip: 0.12\n",
      "GMAP_snip: 0.0\n",
      "\n"
     ]
    },
    {
     "name": "stderr",
     "output_type": "stream",
     "text": [
      "Processing questions...: 85it [00:00, ?it/s]\n",
      "Evaluating snippets...: 85it [00:00, 727.94it/s]"
     ]
    },
    {
     "name": "stdout",
     "output_type": "stream",
     "text": [
      "Test results articles for test batch 4 \n",
      "MRR: 64.37\n",
      "MAP: 45.6\n",
      "nDCG@10: 54.3\n",
      "P_article: 18.35\n",
      "R_article: 59.33\n",
      "F1_article: 26.68\n",
      "GMAP: 3.24\n",
      "\n",
      "Test results snippets for test batch 4 \n",
      "P_snip: 0.0\n",
      "R_snip: 0.0\n",
      "F1_snip: 0.0\n",
      "MAP_snip: 0.0\n",
      "GMAP_snip: 0.0\n",
      "\n"
     ]
    },
    {
     "name": "stderr",
     "output_type": "stream",
     "text": [
      "\n"
     ]
    }
   ],
   "source": [
    "for i in range(4):\n",
    "    test_ground_truth_path = f\"datasets/final_correct_datasets/test/parsed_data_final_test_batch_{i + 1}.json\"\n",
    "    test_predicted_results_path = f\"Traditional_IR/Results/bm25_test_batch_{i + 1}_results.json\"\n",
    "\n",
    "    results = []\n",
    "\n",
    "    test_ground_truth = load_json(test_ground_truth_path)\n",
    "    test_predicted = load_json(test_predicted_results_path)\n",
    "\n",
    "    evaluator_test = Evaluator(test_ground_truth, test_predicted)\n",
    "\n",
    "    results_articles = evaluator_test.evaluate_metrics_for_articles(k = 10)\n",
    "    results_snippets = evaluator_test.evaluate_metrics_for_snippets()\n",
    "\n",
    "    print(f\"Test results articles for test batch {i + 1} \")\n",
    "    evaluator_test.print_results(results_articles)\n",
    "\n",
    "    print(f\"\\nTest results snippets for test batch {i + 1} \")\n",
    "    evaluator_test.print_results(results_snippets)\n",
    "\n",
    "    print()\n"
   ]
  },
  {
   "cell_type": "markdown",
   "id": "0553d74e",
   "metadata": {},
   "source": [
    "Training results for articles: \n",
    "MRR: 81.21\n",
    "MAP: 51.39\n",
    "nDCG@10: 69.58\n",
    "P_article: 40.38\n",
    "R_article: 59.54\n",
    "F1_article: 37.96\n",
    "GMAP: 15.13\n",
    "\n",
    "Training results for snippets:\n",
    "P_snip: 8.54\n",
    "R_snip: 51.5\n",
    "F1_snip: 13.0\n",
    "MAP_snip: 38.27\n",
    "GMAP_snip: 6.83\n",
    "\n",
    "Test results articles for test batch 2 \n",
    "MRR: 69.98\n",
    "MAP: 55.46\n",
    "nDCG@10: 62.67\n",
    "P_article: 16.24\n",
    "R_article: 67.82\n",
    "F1_article: 24.61\n",
    "GMAP: 5.29\n",
    "\n",
    "Test results snippets for test batch 2 \n",
    "P_snip: 3.48\n",
    "R_snip: 55.89\n",
    "F1_snip: 6.3\n",
    "MAP_snip: 15.28\n",
    "GMAP_snip: 1.22\n",
    "\n",
    "Processing questions...: 85it [00:00, 84945.40it/s]\n",
    "Evaluating snippets...: 85it [00:00, 161.00it/s]\n",
    "Test results articles for test batch 3 \n",
    "MRR: 70.29\n",
    "MAP: 51.96\n",
    "nDCG@10: 59.8\n",
    "P_article: 16.55\n",
    "R_article: 63.75\n",
    "F1_article: 24.74\n",
    "GMAP: 6.28\n",
    "\n",
    "Test results snippets for test batch 3 \n",
    "P_snip: 3.09\n",
    "R_snip: 52.1\n",
    "F1_snip: 5.72\n",
    "MAP_snip: 15.39\n",
    "GMAP_snip: 1.22\n",
    "\n",
    "Processing questions...: 85it [00:00, 62306.16it/s]\n",
    "Evaluating snippets...: 85it [00:00, 166.46it/s]Test results articles for test batch 4 \n",
    "MRR: 64.37\n",
    "MAP: 45.6\n",
    "nDCG@10: 54.3\n",
    "P_article: 18.35\n",
    "R_article: 59.33\n",
    "F1_article: 26.68\n",
    "GMAP: 3.24\n",
    "\n",
    "Test results snippets for test batch 4 \n",
    "P_snip: 3.02\n",
    "R_snip: 50.58\n",
    "F1_snip: 5.58\n",
    "MAP_snip: 17.74\n",
    "GMAP_snip: 1.25"
   ]
  }
 ],
 "metadata": {
  "kernelspec": {
   "display_name": "air_env",
   "language": "python",
   "name": "python3"
  },
  "language_info": {
   "codemirror_mode": {
    "name": "ipython",
    "version": 3
   },
   "file_extension": ".py",
   "mimetype": "text/x-python",
   "name": "python",
   "nbconvert_exporter": "python",
   "pygments_lexer": "ipython3",
   "version": "3.10.16"
  }
 },
 "nbformat": 4,
 "nbformat_minor": 5
}
