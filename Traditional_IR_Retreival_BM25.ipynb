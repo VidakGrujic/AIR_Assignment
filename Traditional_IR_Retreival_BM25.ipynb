{
 "cells": [
  {
   "cell_type": "code",
   "execution_count": 2,
   "id": "4807ac91",
   "metadata": {},
   "outputs": [],
   "source": [
    "import os\n",
    "import shutil\n",
    "import tempfile\n",
    "from tqdm import tqdm\n",
    "import json\n",
    "import re\n",
    "from collections import defaultdict\n",
    "from rank_bm25 import BM25Okapi\n",
    "from data_manipulation import DataManipulator\n",
    "data_manipulator = DataManipulator()\n",
    "\n",
    "corpus_path = 'Traditional_IR/tokenized_corpus.jsonl'\n",
    "all_articles_file_path = \"datasets/final_correct_datasets/all_retrieved_articles.json\"\n",
    "training_ground_truth_folder_path = \"datasets/final_correct_datasets/training\"\n",
    "test_ground_truth_folder_path = \"datasets/final_correct_datasets/test\"\n",
    "total_article_target = 70000"
   ]
  },
  {
   "cell_type": "code",
   "execution_count": 16,
   "id": "7bb698f2",
   "metadata": {},
   "outputs": [],
   "source": [
    "def tokenize(text):\n",
    "    text = text.lower()\n",
    "    text = re.sub(r'[^a-z0-9\\s]', '', text)\n",
    "    return text.split()\n",
    "\n",
    "\n",
    "def prepare_corpus_cached(articles, corpus_path='tokenized_corpus.jsonl'):\n",
    "    \"\"\"\n",
    "    Tokenizes and caches the corpus to disk. If already exists, loads it.\n",
    "    Returns tokenized corpus and article_refs.\n",
    "    \"\"\"\n",
    "    if os.path.exists(corpus_path):\n",
    "        print(f\"Loading cached corpus from {corpus_path}...\")\n",
    "        corpus = []\n",
    "        article_refs = []\n",
    "        with open(corpus_path, 'r', encoding='utf-8') as f:\n",
    "            for line in f:\n",
    "                entry = json.loads(line)\n",
    "                corpus.append(entry['tokens'])\n",
    "                article_refs.append(entry['meta'])\n",
    "        return corpus, article_refs\n",
    "\n",
    "    print(f\"Creating and caching corpus to {corpus_path}...\")\n",
    "    corpus = []\n",
    "    article_refs = []\n",
    "\n",
    "    with open(corpus_path, 'w', encoding='utf-8') as f:\n",
    "        for article in tqdm(articles, desc=\"Tokenizing articles...\"):\n",
    "            title = article.get('title', '')\n",
    "            abstract = article.get('abstract', '')\n",
    "            text = f\"{title} {abstract}\".strip()\n",
    "\n",
    "            if not text:\n",
    "                continue\n",
    "\n",
    "            tokens = tokenize(text)\n",
    "            if tokens:\n",
    "                record = {\n",
    "                    'tokens': tokens,\n",
    "                    'meta': {\n",
    "                        'pid': article.get('pid', ''),\n",
    "                        'title': title,\n",
    "                        'abstract': abstract\n",
    "                    }\n",
    "                }\n",
    "                f.write(json.dumps(record, ensure_ascii=False) + \"\\n\")\n",
    "                corpus.append(tokens)\n",
    "                article_refs.append(record['meta'])\n",
    "\n",
    "    return corpus, article_refs"
   ]
  },
  {
   "cell_type": "code",
   "execution_count": 17,
   "id": "3bef030c",
   "metadata": {},
   "outputs": [],
   "source": [
    "def get_bm25_corpus():\n",
    "    training_ground_truth = data_manipulator.get_ground_truth_from_all_files(training_ground_truth_folder_path)\n",
    "    test_ground_truth = data_manipulator.get_ground_truth_from_all_files(test_ground_truth_folder_path)\n",
    "\n",
    "    ground_truth_data = training_ground_truth + test_ground_truth\n",
    "\n",
    "    sampled_articles = []\n",
    "\n",
    "   \n",
    "    all_articles = data_manipulator.get_all_articles(all_articles_file_path)\n",
    "    sampled_articles = data_manipulator.build_article_dataset_with_ground_truth(ground_truth_data, \n",
    "                                                                                all_articles, \n",
    "                                                                                total_articles_target=total_article_target)\n",
    "    \n",
    "    corpus, article_refs = prepare_corpus_cached(sampled_articles, corpus_path)    \n",
    "    \n",
    "    return corpus, article_refs"
   ]
  },
  {
   "cell_type": "code",
   "execution_count": 18,
   "id": "88b2e506",
   "metadata": {},
   "outputs": [],
   "source": [
    "# --- BM25 Ranking ---\n",
    "\n",
    "def rank_articles_bm25(question, bm25, article_refs):\n",
    "    query = tokenize(question)\n",
    "    scores = bm25.get_scores(query)\n",
    "    ranked_indices = sorted(range(len(scores)), key=lambda i: scores[i], reverse=True)\n",
    "\n",
    "    top_10 = []\n",
    "    for i in ranked_indices[:10]:\n",
    "        article = article_refs[i]\n",
    "        top_10.append({\n",
    "            'pid': article.get('pid', ''),\n",
    "            'title': article.get('title', ''),\n",
    "            'abstract': article.get('abstract', ''),\n",
    "            'score': float(scores[i])\n",
    "        })\n",
    "\n",
    "    return top_10"
   ]
  },
  {
   "cell_type": "code",
   "execution_count": 19,
   "id": "35e65835",
   "metadata": {},
   "outputs": [],
   "source": [
    "\n",
    "\n",
    "# --- Snippet Extraction ---\n",
    "\n",
    "def extract_snippets(question, top_articles):\n",
    "    query_terms = [re.sub(r'[^a-z0-9]', '', t.lower()) for t in re.findall(r'\\w+', question)]\n",
    "    snippets = []\n",
    "\n",
    "    for article in top_articles:\n",
    "        pid = article.get('pid', '')\n",
    "        for section in ['title', 'abstract']:\n",
    "            field_text = article.get(section, '')\n",
    "            text_lower = field_text.lower()\n",
    "            text_norm = re.sub(r'[^a-z0-9\\s]', '', text_lower)\n",
    "\n",
    "            match_offsets = []\n",
    "            for term in query_terms:\n",
    "                for m in re.finditer(r'\\b' + re.escape(term) + r'\\b', text_norm):\n",
    "                    start, end = m.start(), m.end()\n",
    "                    match_offsets.append((start, end))\n",
    "\n",
    "            if not match_offsets:\n",
    "                continue\n",
    "\n",
    "            snippet_start = min(offset[0] for offset in match_offsets)\n",
    "            snippet_end = max(offset[1] for offset in match_offsets)\n",
    "            snippet_text = field_text[snippet_start:snippet_end].strip()\n",
    "\n",
    "            snippets.append({\n",
    "                \"beginSection\": section,\n",
    "                \"endSection\": section,\n",
    "                \"text\": snippet_text,\n",
    "                \"document\": pid,\n",
    "                \"offsetInBeginSection\": snippet_start,\n",
    "                \"offsetInEndSection\": snippet_end\n",
    "            })\n",
    "\n",
    "    return snippets\n",
    "\n"
   ]
  },
  {
   "cell_type": "code",
   "execution_count": 20,
   "id": "f3b68c42",
   "metadata": {},
   "outputs": [],
   "source": [
    "def save_results(results, output_file):\n",
    "    with open(output_file, 'w', encoding='utf-8') as f:\n",
    "        json.dump(results, f, indent=2, ensure_ascii=False)\n"
   ]
  },
  {
   "cell_type": "code",
   "execution_count": 21,
   "id": "bfaf9a8b",
   "metadata": {},
   "outputs": [],
   "source": [
    "# --- Ranking All Questions ---\n",
    "\n",
    "def rank_all_questions_bm25(questions, corpus, article_refs):\n",
    "    #corpus, article_refs = prepare_corpus_cached(articles, corpus_path=corpus_path)\n",
    "    bm25 = BM25Okapi(corpus)\n",
    "\n",
    "    results_by_question = []\n",
    "\n",
    "    for entry in tqdm(questions, desc=\"Ranking questions with full article set...\"):\n",
    "        question = entry['question']\n",
    "        qid = entry['qid']\n",
    "        top_articles = rank_articles_bm25(question, bm25, article_refs)\n",
    "        snippets = extract_snippets(question, top_articles)\n",
    "\n",
    "        results_by_question.append({\n",
    "            'id': qid,\n",
    "            'question': question,\n",
    "            'top_10_articles': top_articles,\n",
    "            'snippets': snippets\n",
    "        })\n",
    "\n",
    "    return { 'data': results_by_question }"
   ]
  },
  {
   "cell_type": "code",
   "execution_count": 22,
   "id": "e888c98e",
   "metadata": {},
   "outputs": [
    {
     "name": "stdout",
     "output_type": "stream",
     "text": [
      "Creating and caching corpus to Traditional_IR_Corpus/tokenized_corpus.jsonl...\n"
     ]
    },
    {
     "name": "stderr",
     "output_type": "stream",
     "text": [
      "Tokenizing articles...: 100%|██████████| 70000/70000 [00:08<00:00, 8058.47it/s] \n",
      "Ranking questions with full article set...: 100%|██████████| 5390/5390 [21:59<00:00,  4.08it/s]\n"
     ]
    }
   ],
   "source": [
    "corpus, article_refs = get_bm25_corpus()\n",
    "training_questions = data_manipulator.get_questions_from_data(data_manipulator.get_ground_truth_from_all_files(training_ground_truth_folder_path))\n",
    "results = rank_all_questions_bm25(questions=training_questions, corpus=corpus, article_refs=article_refs)"
   ]
  },
  {
   "cell_type": "code",
   "execution_count": 23,
   "id": "30e01830",
   "metadata": {},
   "outputs": [],
   "source": [
    "save_results(results=results, output_file='Traditional_IR/bm25_training_results.json')"
   ]
  },
  {
   "cell_type": "code",
   "execution_count": 25,
   "id": "c4ad7351",
   "metadata": {},
   "outputs": [
    {
     "name": "stderr",
     "output_type": "stream",
     "text": [
      "Ranking questions with full article set...: 100%|██████████| 85/85 [00:23<00:00,  3.63it/s]\n",
      "Ranking questions with full article set...: 100%|██████████| 85/85 [00:23<00:00,  3.66it/s]\n",
      "Ranking questions with full article set...: 100%|██████████| 85/85 [00:22<00:00,  3.79it/s]\n",
      "Ranking questions with full article set...: 100%|██████████| 85/85 [00:21<00:00,  3.89it/s]\n"
     ]
    }
   ],
   "source": [
    "# test\n",
    "for i in range(4):\n",
    "    file_path = f'datasets/final_correct_datasets/test/parsed_data_final_test_batch_{i+1}.json'\n",
    "\n",
    "    test_questions = data_manipulator.get_questions_from_data(data_manipulator.get_ground_truth_one_file(file_path=file_path))\n",
    "\n",
    "    results = rank_all_questions_bm25(questions=test_questions, corpus=corpus, article_refs=article_refs)\n",
    "\n",
    "    save_results(results, output_file=f'Traditional_IR/bm25_test_batch_{i+1}_results.json')"
   ]
  },
  {
   "cell_type": "code",
   "execution_count": null,
   "id": "bdbeed48",
   "metadata": {},
   "outputs": [],
   "source": [
    "Evalua"
   ]
  }
 ],
 "metadata": {
  "kernelspec": {
   "display_name": "air_env",
   "language": "python",
   "name": "python3"
  },
  "language_info": {
   "codemirror_mode": {
    "name": "ipython",
    "version": 3
   },
   "file_extension": ".py",
   "mimetype": "text/x-python",
   "name": "python",
   "nbconvert_exporter": "python",
   "pygments_lexer": "ipython3",
   "version": "3.10.16"
  }
 },
 "nbformat": 4,
 "nbformat_minor": 5
}
