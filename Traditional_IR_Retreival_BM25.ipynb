{
 "cells": [
  {
   "cell_type": "code",
   "execution_count": 10,
   "id": "4807ac91",
   "metadata": {},
   "outputs": [],
   "source": [
    "import os\n",
    "import shutil\n",
    "import tempfile\n",
    "from tqdm import tqdm\n",
    "import json\n",
    "import re\n",
    "from collections import defaultdict\n",
    "from rank_bm25 import BM25Okapi"
   ]
  },
  {
   "cell_type": "code",
   "execution_count": null,
   "id": "3bef030c",
   "metadata": {},
   "outputs": [
    {
     "ename": "FileNotFoundError",
     "evalue": "[Errno 2] No such file or directory: 'datasets/test/batch_1/parsed_data_final_test_batch_1.json'",
     "output_type": "error",
     "traceback": [
      "\u001b[1;31m---------------------------------------------------------------------------\u001b[0m",
      "\u001b[1;31mFileNotFoundError\u001b[0m                         Traceback (most recent call last)",
      "Cell \u001b[1;32mIn[11], line 27\u001b[0m\n\u001b[0;32m     18\u001b[0m output_file \u001b[38;5;241m=\u001b[39m \u001b[38;5;124m'\u001b[39m\u001b[38;5;124mresults/bm25_results_test_batch_1.json\u001b[39m\u001b[38;5;124m'\u001b[39m\n\u001b[0;32m     19\u001b[0m \u001b[38;5;66;03m# output_file = 'results/bm25_results_test_batch_2.json'\u001b[39;00m\n\u001b[0;32m     20\u001b[0m \u001b[38;5;66;03m# output_file = 'results/bm25_results_test_batch_3.json'\u001b[39;00m\n\u001b[0;32m     21\u001b[0m \n\u001b[0;32m     22\u001b[0m \u001b[38;5;66;03m# training output files\u001b[39;00m\n\u001b[0;32m     23\u001b[0m \u001b[38;5;66;03m#output_file ='results/bm25_results_training.json'\u001b[39;00m\n\u001b[1;32m---> 27\u001b[0m data \u001b[38;5;241m=\u001b[39m \u001b[43mload_data\u001b[49m\u001b[43m(\u001b[49m\u001b[43mfile_path\u001b[49m\u001b[38;5;241;43m=\u001b[39;49m\u001b[43mparsed_training_data\u001b[49m\u001b[43m)\u001b[49m\n\u001b[0;32m     29\u001b[0m data[\u001b[38;5;241m0\u001b[39m]\n",
      "Cell \u001b[1;32mIn[11], line 3\u001b[0m, in \u001b[0;36mload_data\u001b[1;34m(file_path)\u001b[0m\n\u001b[0;32m      2\u001b[0m \u001b[38;5;28;01mdef\u001b[39;00m\u001b[38;5;250m \u001b[39m\u001b[38;5;21mload_data\u001b[39m(file_path):\n\u001b[1;32m----> 3\u001b[0m     \u001b[38;5;28;01mwith\u001b[39;00m \u001b[38;5;28;43mopen\u001b[39;49m\u001b[43m(\u001b[49m\u001b[43mfile_path\u001b[49m\u001b[43m,\u001b[49m\u001b[43m \u001b[49m\u001b[38;5;124;43m'\u001b[39;49m\u001b[38;5;124;43mr\u001b[39;49m\u001b[38;5;124;43m'\u001b[39;49m\u001b[43m,\u001b[49m\u001b[43m \u001b[49m\u001b[43mencoding\u001b[49m\u001b[38;5;241;43m=\u001b[39;49m\u001b[38;5;124;43m'\u001b[39;49m\u001b[38;5;124;43mutf-8\u001b[39;49m\u001b[38;5;124;43m'\u001b[39;49m\u001b[43m)\u001b[49m \u001b[38;5;28;01mas\u001b[39;00m f:\n\u001b[0;32m      4\u001b[0m         data \u001b[38;5;241m=\u001b[39m json\u001b[38;5;241m.\u001b[39mload(f)\n\u001b[0;32m      6\u001b[0m     \u001b[38;5;28;01mreturn\u001b[39;00m data[\u001b[38;5;124m'\u001b[39m\u001b[38;5;124mdata\u001b[39m\u001b[38;5;124m'\u001b[39m]\n",
      "File \u001b[1;32mc:\\Users\\Vidak\\miniconda3\\envs\\air_env\\lib\\site-packages\\IPython\\core\\interactiveshell.py:324\u001b[0m, in \u001b[0;36m_modified_open\u001b[1;34m(file, *args, **kwargs)\u001b[0m\n\u001b[0;32m    317\u001b[0m \u001b[38;5;28;01mif\u001b[39;00m file \u001b[38;5;129;01min\u001b[39;00m {\u001b[38;5;241m0\u001b[39m, \u001b[38;5;241m1\u001b[39m, \u001b[38;5;241m2\u001b[39m}:\n\u001b[0;32m    318\u001b[0m     \u001b[38;5;28;01mraise\u001b[39;00m \u001b[38;5;167;01mValueError\u001b[39;00m(\n\u001b[0;32m    319\u001b[0m         \u001b[38;5;124mf\u001b[39m\u001b[38;5;124m\"\u001b[39m\u001b[38;5;124mIPython won\u001b[39m\u001b[38;5;124m'\u001b[39m\u001b[38;5;124mt let you open fd=\u001b[39m\u001b[38;5;132;01m{\u001b[39;00mfile\u001b[38;5;132;01m}\u001b[39;00m\u001b[38;5;124m by default \u001b[39m\u001b[38;5;124m\"\u001b[39m\n\u001b[0;32m    320\u001b[0m         \u001b[38;5;124m\"\u001b[39m\u001b[38;5;124mas it is likely to crash IPython. If you know what you are doing, \u001b[39m\u001b[38;5;124m\"\u001b[39m\n\u001b[0;32m    321\u001b[0m         \u001b[38;5;124m\"\u001b[39m\u001b[38;5;124myou can use builtins\u001b[39m\u001b[38;5;124m'\u001b[39m\u001b[38;5;124m open.\u001b[39m\u001b[38;5;124m\"\u001b[39m\n\u001b[0;32m    322\u001b[0m     )\n\u001b[1;32m--> 324\u001b[0m \u001b[38;5;28;01mreturn\u001b[39;00m io_open(file, \u001b[38;5;241m*\u001b[39margs, \u001b[38;5;241m*\u001b[39m\u001b[38;5;241m*\u001b[39mkwargs)\n",
      "\u001b[1;31mFileNotFoundError\u001b[0m: [Errno 2] No such file or directory: 'datasets/test/batch_1/parsed_data_final_test_batch_1.json'"
     ]
    }
   ],
   "source": [
    "# load json file\n",
    "def load_data(file_path):\n",
    "    with open(file_path, 'r', encoding='utf-8') as f:\n",
    "        data = json.load(f)\n",
    "\n",
    "    return data['data']\n",
    "\n",
    "# test training daya\n",
    "#parsed_training_data = 'datasets/test_golden_answers/batch_1/parsed_data_final_test_batch_1.json'\n",
    "# parsed_training_data = 'datasets/test/test_golden_answers/batch_2/retrieved_articles_sampled_test_batch_2.json'\n",
    "# parsed_training_data = 'datasets/test/test_golden_answers/batch_3/retrieved_articles_sampled_test_batch_3.json'\n",
    "\n",
    "# training data\n",
    "parsed_training_data = 'datasets/training/parsed_data_final.json'\n",
    "\n",
    "\n",
    "# test output files\n",
    "#output_file = 'results/bm25_results_test_batch_1.json'\n",
    "# output_file = 'results/bm25_results_test_batch_2.json'\n",
    "# output_file = 'results/bm25_results_test_batch_3.json'\n",
    "\n",
    "# training output files\n",
    "output_file ='results/bm25_results_training.json'\n",
    "\n",
    "\n",
    "\n",
    "data = load_data(file_path=parsed_training_data)\n",
    "\n",
    "data[0]"
   ]
  },
  {
   "cell_type": "code",
   "execution_count": null,
   "id": "f1008c4a",
   "metadata": {},
   "outputs": [],
   "source": [
    "def tokenize(text):\n",
    "    text = text.lower()\n",
    "    text = re.sub(r'[^a-z0-9\\s]', '', text)\n",
    "    return text.split()\n"
   ]
  },
  {
   "cell_type": "code",
   "execution_count": null,
   "id": "165bb53e",
   "metadata": {},
   "outputs": [],
   "source": [
    "def prepare_corpus(articles):\n",
    "    \"\"\"\n",
    "    Prepares tokenized documents for BM25 from article title + abstract.\n",
    "    Returns (tokenized_corpus, article_refs)\n",
    "    \"\"\"\n",
    "    corpus = []\n",
    "    article_refs = []\n",
    "\n",
    "    for article in articles:\n",
    "        title = article.get('title', '')\n",
    "        abstract = article.get('abstract', '')\n",
    "        text = f\"{title} {abstract}\".strip()\n",
    "\n",
    "        if not text:\n",
    "            continue\n",
    "\n",
    "        tokens = tokenize(text)\n",
    "        if tokens:\n",
    "            corpus.append(tokens)\n",
    "            article_refs.append(article)  # store original for scoring\n",
    "\n",
    "    return corpus, article_refs"
   ]
  },
  {
   "cell_type": "code",
   "execution_count": null,
   "id": "2665f776",
   "metadata": {},
   "outputs": [],
   "source": [
    "def rank_articles_bm25(question, articles):\n",
    "    corpus, article_refs = prepare_corpus(articles)\n",
    "    if not corpus:\n",
    "        return []\n",
    "\n",
    "    bm25 = BM25Okapi(corpus)\n",
    "    query = tokenize(question)\n",
    "\n",
    "    scores = bm25.get_scores(query)\n",
    "    ranked_indices = sorted(range(len(scores)), key=lambda i: scores[i], reverse=True)\n",
    "\n",
    "    top_10 = []\n",
    "    for i in ranked_indices[:10]:\n",
    "        article = article_refs[i]\n",
    "        top_10.append({\n",
    "            'pid': article.get('pid', ''),\n",
    "            'title': article.get('title', ''),\n",
    "            'abstract': article.get('abstract', ''),\n",
    "            'score': float(scores[i])\n",
    "        })\n",
    "\n",
    "    return top_10"
   ]
  },
  {
   "cell_type": "code",
   "execution_count": null,
   "id": "140b78a2",
   "metadata": {},
   "outputs": [],
   "source": [
    "def save_results(results, output_file):\n",
    "    with open(output_file, 'w', encoding='utf-8') as f:\n",
    "        json.dump(results, f, indent=2, ensure_ascii=False)"
   ]
  },
  {
   "cell_type": "code",
   "execution_count": null,
   "id": "bd006e56",
   "metadata": {},
   "outputs": [],
   "source": [
    "def extract_snippets(question, top_articles):\n",
    "    \"\"\"\n",
    "    Extract BioASQ-style snippets from the top-ranked articles.\n",
    "    Returns a list of snippet dicts with section labels and character offsets.\n",
    "    \"\"\"\n",
    "    query_terms = [re.sub(r'[^a-z0-9]', '', t.lower()) for t in re.findall(r'\\w+', question)]\n",
    "    snippets = []\n",
    "\n",
    "    for article in top_articles:\n",
    "        pid = article.get('pid', '')\n",
    "        #doc_url = f\"https://www.ncbi.nlm.nih.gov/pubmed/{pid}\"\n",
    "\n",
    "        for section in ['title', 'abstract']:\n",
    "            field_text = article.get(section, '')\n",
    "            text_lower = field_text.lower()\n",
    "            text_norm = re.sub(r'[^a-z0-9\\s]', '', text_lower)\n",
    "\n",
    "            # Map normalized text back to original for offset tracking\n",
    "            match_offsets = []\n",
    "            for term in query_terms:\n",
    "                for m in re.finditer(r'\\b' + re.escape(term) + r'\\b', text_norm):\n",
    "                    start, end = m.start(), m.end()\n",
    "                    match_offsets.append((start, end))\n",
    "\n",
    "            if not match_offsets:\n",
    "                continue\n",
    "\n",
    "            snippet_start = min(offset[0] for offset in match_offsets)\n",
    "            snippet_end = max(offset[1] for offset in match_offsets)\n",
    "\n",
    "            # Use original text offsets — approximate based on normalized mapping\n",
    "            snippet_text = field_text[snippet_start:snippet_end].strip()\n",
    "\n",
    "            snippets.append({\n",
    "                \"beginSection\": section,\n",
    "                \"endSection\": section,\n",
    "                \"text\": snippet_text,\n",
    "                \"document\": pid,\n",
    "                \"offsetInBeginSection\": snippet_start,\n",
    "                \"offsetInEndSection\": snippet_end\n",
    "            })\n",
    "\n",
    "    return snippets"
   ]
  },
  {
   "cell_type": "code",
   "execution_count": null,
   "id": "dd241c2e",
   "metadata": {},
   "outputs": [],
   "source": [
    "def rank_all_questions_bm25(data):\n",
    "    results_by_question = []\n",
    "\n",
    "    for entry in tqdm(data, desc=\"Processing questions...\"):\n",
    "        question = entry['question']\n",
    "        articles = entry.get('all_retreived_articles', [])\n",
    "        top_articles = rank_articles_bm25(question, articles)\n",
    "        snippets = extract_snippets(question, top_articles)\n",
    "\n",
    "        results_by_question.append({\n",
    "            'question': question,\n",
    "            'top_10_articles': top_articles, \n",
    "            'snippets': snippets\n",
    "        })\n",
    "\n",
    "    return { 'data' : results_by_question }"
   ]
  },
  {
   "cell_type": "code",
   "execution_count": null,
   "id": "5b2a8534",
   "metadata": {},
   "outputs": [
    {
     "name": "stderr",
     "output_type": "stream",
     "text": [
      "Processing questions...: 100%|██████████| 5390/5390 [02:02<00:00, 43.84it/s]\n"
     ]
    }
   ],
   "source": [
    "results_bm25 = rank_all_questions_bm25(data=data)\n",
    "save_results(results_bm25, output_file)"
   ]
  }
 ],
 "metadata": {
  "kernelspec": {
   "display_name": "air_env",
   "language": "python",
   "name": "python3"
  },
  "language_info": {
   "codemirror_mode": {
    "name": "ipython",
    "version": 3
   },
   "file_extension": ".py",
   "mimetype": "text/x-python",
   "name": "python",
   "nbconvert_exporter": "python",
   "pygments_lexer": "ipython3",
   "version": "3.10.16"
  }
 },
 "nbformat": 4,
 "nbformat_minor": 5
}
