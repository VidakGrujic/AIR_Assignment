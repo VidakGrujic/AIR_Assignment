{
 "cells": [
  {
   "cell_type": "code",
   "execution_count": 1,
   "id": "d8070559",
   "metadata": {},
   "outputs": [],
   "source": [
    "from data_manipulation import DataManipulator\n",
    "\n",
    "dm = DataManipulator()\n",
    "\n",
    "all_articles = dm.get_all_articles(\"datasets/final_correct_datasets/all_retrieved_articles.json\")\n",
    "training_data = dm.get_ground_truth_one_file(\"datasets/final_correct_datasets/training/parsed_data_final.json\")\n",
    "\n",
    "# Napravi lookup po PID-u\n",
    "article_lookup = {article['pid']: article for article in all_articles}\n",
    "\n",
    "# Ground-truth PID-ovi\n",
    "gt_pids = set()\n",
    "for entry in training_data:\n",
    "    gt_pids.update(entry['ground_truth_documents_pid'])\n",
    "\n",
    "# Dodaj sve GT članke\n",
    "gt_articles = [article_lookup[pid] for pid in gt_pids if pid in article_lookup]\n",
    "\n",
    "# Nasumično uzmi ostatak\n",
    "import random\n",
    "non_gt_articles = [a for a in all_articles if a['pid'] not in gt_pids]\n",
    "random.seed(42)\n",
    "sampled_non_gt = random.sample(non_gt_articles, k=70000 - len(gt_articles))\n",
    "\n",
    "sampled_articles = gt_articles + sampled_non_gt\n"
   ]
  },
  {
   "cell_type": "code",
   "execution_count": 2,
   "id": "bbd4af85",
   "metadata": {},
   "outputs": [
    {
     "data": {
      "application/vnd.jupyter.widget-view+json": {
       "model_id": "a23bb40cf05241cfbf95658bf51e4e31",
       "version_major": 2,
       "version_minor": 0
      },
      "text/plain": [
       "Batches:   0%|          | 0/2188 [00:00<?, ?it/s]"
      ]
     },
     "metadata": {},
     "output_type": "display_data"
    }
   ],
   "source": [
    "from sentence_transformers import SentenceTransformer\n",
    "from sentence_transformers import util\n",
    "import torch\n",
    "\n",
    "model = SentenceTransformer(\"pritamdeka/BioBERT-mnli-snli-scinli-scitail-mednli-stsb\")\n",
    "article_texts = [f\"{a['title']} {a['abstract']}\" for a in sampled_articles]\n",
    "article_embeddings = model.encode(article_texts, convert_to_tensor=True, show_progress_bar=True)\n"
   ]
  },
  {
   "cell_type": "code",
   "execution_count": 12,
   "id": "c691f919",
   "metadata": {},
   "outputs": [
    {
     "name": "stderr",
     "output_type": "stream",
     "text": [
      "Generating predictions:   0%|          | 0/5390 [00:00<?, ?it/s]"
     ]
    },
    {
     "name": "stderr",
     "output_type": "stream",
     "text": [
      "Generating predictions: 100%|██████████| 5390/5390 [09:30<00:00,  9.44it/s]\n"
     ]
    }
   ],
   "source": [
    "from sentence_transformers import util\n",
    "import torch\n",
    "from tqdm import tqdm\n",
    "import json\n",
    "\n",
    "# Generiši predikcije\n",
    "results = []\n",
    "\n",
    "for q in tqdm(training_data, desc=\"Generating predictions\"):\n",
    "    q_embedding = model.encode(q[\"question\"], convert_to_tensor=True)\n",
    "    scores = util.cos_sim(q_embedding, article_embeddings)[0]\n",
    "    top_k_indices = torch.topk(scores, k=10).indices\n",
    "\n",
    "    top_articles = []\n",
    "    for i in top_k_indices:\n",
    "        a = sampled_articles[i]\n",
    "        top_articles.append({\n",
    "            \"pid\": a[\"pid\"],\n",
    "            \"title\": a[\"title\"],\n",
    "            \"abstract\": a[\"abstract\"],\n",
    "            \"score\": float(scores[i])\n",
    "        })\n",
    "\n",
    "    results.append({\n",
    "        \"qid\": q[\"qid\"],\n",
    "        \"question\": q[\"question\"],\n",
    "        \"top_10_articles\": top_articles,\n",
    "        \"snippets\": []  # Ne radiš snippet retrieval\n",
    "    })\n",
    "\n",
    "# Sačuvaj rezultate\n",
    "with open(\"neural_results.json\", \"w\", encoding=\"utf-8\") as f:\n",
    "    json.dump({\"data\": results}, f, ensure_ascii=False, indent=2)\n"
   ]
  },
  {
   "cell_type": "code",
   "execution_count": 13,
   "id": "ebd5c09c",
   "metadata": {},
   "outputs": [
    {
     "name": "stderr",
     "output_type": "stream",
     "text": [
      "Processing questions...: 5390it [00:00, 115555.60it/s]"
     ]
    },
    {
     "name": "stdout",
     "output_type": "stream",
     "text": [
      "Rezultati za članke (training set):\n",
      "MRR: 63.02\n",
      "MAP: 30.94\n",
      "nDCG@10: 47.42\n",
      "P_article: 28.16\n",
      "R_article: 39.33\n",
      "F1_article: 25.55\n",
      "GMAP: 1.76\n"
     ]
    },
    {
     "name": "stderr",
     "output_type": "stream",
     "text": [
      "\n"
     ]
    }
   ],
   "source": [
    "from evaluation_metrices import Evaluator\n",
    "import json\n",
    "\n",
    "# Učitaj ground truth i predikcije\n",
    "with open(\"datasets/final_correct_datasets/training/parsed_data_final.json\", \"r\", encoding=\"utf-8\") as f:\n",
    "    gt_data = json.load(f)\n",
    "\n",
    "with open(\"neural_results.json\", \"r\", encoding=\"utf-8\") as f:\n",
    "    pred_data = json.load(f)\n",
    "\n",
    "# Pokreni evaluaciju\n",
    "evaluator = Evaluator(gt_data, pred_data)\n",
    "results_articles = evaluator.evaluate_metrics_for_articles(k=10)\n",
    "\n",
    "# Prikaži rezultate\n",
    "print(\"Rezultati za članke (training set):\")\n",
    "evaluator.print_results(results_articles)\n"
   ]
  },
  {
   "cell_type": "code",
   "execution_count": 17,
   "id": "71ea1ca2",
   "metadata": {},
   "outputs": [],
   "source": [
    "from sentence_transformers import SentenceTransformer, util\n",
    "import torch\n",
    "import json\n",
    "from tqdm import tqdm\n",
    "\n",
    "def generate_bert_results_for_batch(batch_index, model, sampled_articles, article_embeddings, output_path):\n",
    "    gt_path = f\"datasets/final_correct_datasets/test/parsed_data_final_test_batch_{batch_index}.json\"\n",
    "    with open(gt_path, \"r\", encoding=\"utf-8\") as f:\n",
    "        test_questions = json.load(f)[\"data\"]\n",
    "\n",
    "    results = []\n",
    "\n",
    "    for q in tqdm(test_questions, desc=f\"Processing batch {batch_index}\"):\n",
    "        q_embedding = model.encode(q[\"question\"], convert_to_tensor=True)\n",
    "        scores = util.cos_sim(q_embedding, article_embeddings)[0]\n",
    "        top_k_indices = torch.topk(scores, k=10).indices\n",
    "\n",
    "        top_articles = []\n",
    "        for i in top_k_indices:\n",
    "            a = sampled_articles[i]\n",
    "            top_articles.append({\n",
    "                \"pid\": a[\"pid\"],\n",
    "                \"title\": a[\"title\"],\n",
    "                \"abstract\": a[\"abstract\"],\n",
    "                \"score\": float(scores[i])\n",
    "            })\n",
    "\n",
    "        results.append({\n",
    "            \"qid\": q[\"qid\"],\n",
    "            \"question\": q[\"question\"],\n",
    "            \"top_10_articles\": top_articles,\n",
    "            \"snippets\": []  # Not used here\n",
    "        })\n",
    "\n",
    "    # Save predictions\n",
    "    with open(output_path, \"w\", encoding=\"utf-8\") as f:\n",
    "        json.dump({\"data\": results}, f, indent=2, ensure_ascii=False)\n"
   ]
  },
  {
   "cell_type": "code",
   "execution_count": null,
   "id": "852d09d7",
   "metadata": {},
   "outputs": [
    {
     "name": "stderr",
     "output_type": "stream",
     "text": [
      "Processing batch 1: 100%|██████████| 85/85 [00:13<00:00,  6.45it/s]\n"
     ]
    },
    {
     "ename": "FileNotFoundError",
     "evalue": "[Errno 2] No such file or directory: 'neural_results/neural_test_batch_1_results.json'",
     "output_type": "error",
     "traceback": [
      "\u001b[1;31m---------------------------------------------------------------------------\u001b[0m",
      "\u001b[1;31mFileNotFoundError\u001b[0m                         Traceback (most recent call last)",
      "Cell \u001b[1;32mIn[18], line 3\u001b[0m\n\u001b[0;32m      1\u001b[0m \u001b[38;5;28;01mfor\u001b[39;00m i \u001b[38;5;129;01min\u001b[39;00m \u001b[38;5;28mrange\u001b[39m(\u001b[38;5;241m1\u001b[39m, \u001b[38;5;241m5\u001b[39m):\n\u001b[0;32m      2\u001b[0m     output_path \u001b[38;5;241m=\u001b[39m \u001b[38;5;124mf\u001b[39m\u001b[38;5;124m\"\u001b[39m\u001b[38;5;124mneural_results/neural_test_batch_\u001b[39m\u001b[38;5;132;01m{\u001b[39;00mi\u001b[38;5;132;01m}\u001b[39;00m\u001b[38;5;124m_results.json\u001b[39m\u001b[38;5;124m\"\u001b[39m\n\u001b[1;32m----> 3\u001b[0m     \u001b[43mgenerate_bert_results_for_batch\u001b[49m\u001b[43m(\u001b[49m\n\u001b[0;32m      4\u001b[0m \u001b[43m        \u001b[49m\u001b[43mbatch_index\u001b[49m\u001b[38;5;241;43m=\u001b[39;49m\u001b[43mi\u001b[49m\u001b[43m,\u001b[49m\n\u001b[0;32m      5\u001b[0m \u001b[43m        \u001b[49m\u001b[43mmodel\u001b[49m\u001b[38;5;241;43m=\u001b[39;49m\u001b[43mmodel\u001b[49m\u001b[43m,\u001b[49m\n\u001b[0;32m      6\u001b[0m \u001b[43m        \u001b[49m\u001b[43msampled_articles\u001b[49m\u001b[38;5;241;43m=\u001b[39;49m\u001b[43msampled_articles\u001b[49m\u001b[43m,\u001b[49m\n\u001b[0;32m      7\u001b[0m \u001b[43m        \u001b[49m\u001b[43marticle_embeddings\u001b[49m\u001b[38;5;241;43m=\u001b[39;49m\u001b[43marticle_embeddings\u001b[49m\u001b[43m,\u001b[49m\n\u001b[0;32m      8\u001b[0m \u001b[43m        \u001b[49m\u001b[43moutput_path\u001b[49m\u001b[38;5;241;43m=\u001b[39;49m\u001b[43moutput_path\u001b[49m\n\u001b[0;32m      9\u001b[0m \u001b[43m    \u001b[49m\u001b[43m)\u001b[49m\n",
      "Cell \u001b[1;32mIn[17], line 36\u001b[0m, in \u001b[0;36mgenerate_bert_results_for_batch\u001b[1;34m(batch_index, model, sampled_articles, article_embeddings, output_path)\u001b[0m\n\u001b[0;32m     28\u001b[0m     results\u001b[38;5;241m.\u001b[39mappend({\n\u001b[0;32m     29\u001b[0m         \u001b[38;5;124m\"\u001b[39m\u001b[38;5;124mqid\u001b[39m\u001b[38;5;124m\"\u001b[39m: q[\u001b[38;5;124m\"\u001b[39m\u001b[38;5;124mqid\u001b[39m\u001b[38;5;124m\"\u001b[39m],\n\u001b[0;32m     30\u001b[0m         \u001b[38;5;124m\"\u001b[39m\u001b[38;5;124mquestion\u001b[39m\u001b[38;5;124m\"\u001b[39m: q[\u001b[38;5;124m\"\u001b[39m\u001b[38;5;124mquestion\u001b[39m\u001b[38;5;124m\"\u001b[39m],\n\u001b[0;32m     31\u001b[0m         \u001b[38;5;124m\"\u001b[39m\u001b[38;5;124mtop_10_articles\u001b[39m\u001b[38;5;124m\"\u001b[39m: top_articles,\n\u001b[0;32m     32\u001b[0m         \u001b[38;5;124m\"\u001b[39m\u001b[38;5;124msnippets\u001b[39m\u001b[38;5;124m\"\u001b[39m: []  \u001b[38;5;66;03m# Not used here\u001b[39;00m\n\u001b[0;32m     33\u001b[0m     })\n\u001b[0;32m     35\u001b[0m \u001b[38;5;66;03m# Save predictions\u001b[39;00m\n\u001b[1;32m---> 36\u001b[0m \u001b[38;5;28;01mwith\u001b[39;00m \u001b[38;5;28;43mopen\u001b[39;49m\u001b[43m(\u001b[49m\u001b[43moutput_path\u001b[49m\u001b[43m,\u001b[49m\u001b[43m \u001b[49m\u001b[38;5;124;43m\"\u001b[39;49m\u001b[38;5;124;43mw\u001b[39;49m\u001b[38;5;124;43m\"\u001b[39;49m\u001b[43m,\u001b[49m\u001b[43m \u001b[49m\u001b[43mencoding\u001b[49m\u001b[38;5;241;43m=\u001b[39;49m\u001b[38;5;124;43m\"\u001b[39;49m\u001b[38;5;124;43mutf-8\u001b[39;49m\u001b[38;5;124;43m\"\u001b[39;49m\u001b[43m)\u001b[49m \u001b[38;5;28;01mas\u001b[39;00m f:\n\u001b[0;32m     37\u001b[0m     json\u001b[38;5;241m.\u001b[39mdump({\u001b[38;5;124m\"\u001b[39m\u001b[38;5;124mdata\u001b[39m\u001b[38;5;124m\"\u001b[39m: results}, f, indent\u001b[38;5;241m=\u001b[39m\u001b[38;5;241m2\u001b[39m, ensure_ascii\u001b[38;5;241m=\u001b[39m\u001b[38;5;28;01mFalse\u001b[39;00m)\n",
      "File \u001b[1;32mc:\\Users\\admin\\AppData\\Local\\Programs\\Python\\Python312\\Lib\\site-packages\\IPython\\core\\interactiveshell.py:324\u001b[0m, in \u001b[0;36m_modified_open\u001b[1;34m(file, *args, **kwargs)\u001b[0m\n\u001b[0;32m    317\u001b[0m \u001b[38;5;28;01mif\u001b[39;00m file \u001b[38;5;129;01min\u001b[39;00m {\u001b[38;5;241m0\u001b[39m, \u001b[38;5;241m1\u001b[39m, \u001b[38;5;241m2\u001b[39m}:\n\u001b[0;32m    318\u001b[0m     \u001b[38;5;28;01mraise\u001b[39;00m \u001b[38;5;167;01mValueError\u001b[39;00m(\n\u001b[0;32m    319\u001b[0m         \u001b[38;5;124mf\u001b[39m\u001b[38;5;124m\"\u001b[39m\u001b[38;5;124mIPython won\u001b[39m\u001b[38;5;124m'\u001b[39m\u001b[38;5;124mt let you open fd=\u001b[39m\u001b[38;5;132;01m{\u001b[39;00mfile\u001b[38;5;132;01m}\u001b[39;00m\u001b[38;5;124m by default \u001b[39m\u001b[38;5;124m\"\u001b[39m\n\u001b[0;32m    320\u001b[0m         \u001b[38;5;124m\"\u001b[39m\u001b[38;5;124mas it is likely to crash IPython. If you know what you are doing, \u001b[39m\u001b[38;5;124m\"\u001b[39m\n\u001b[0;32m    321\u001b[0m         \u001b[38;5;124m\"\u001b[39m\u001b[38;5;124myou can use builtins\u001b[39m\u001b[38;5;124m'\u001b[39m\u001b[38;5;124m open.\u001b[39m\u001b[38;5;124m\"\u001b[39m\n\u001b[0;32m    322\u001b[0m     )\n\u001b[1;32m--> 324\u001b[0m \u001b[38;5;28;01mreturn\u001b[39;00m \u001b[43mio_open\u001b[49m\u001b[43m(\u001b[49m\u001b[43mfile\u001b[49m\u001b[43m,\u001b[49m\u001b[43m \u001b[49m\u001b[38;5;241;43m*\u001b[39;49m\u001b[43margs\u001b[49m\u001b[43m,\u001b[49m\u001b[43m \u001b[49m\u001b[38;5;241;43m*\u001b[39;49m\u001b[38;5;241;43m*\u001b[39;49m\u001b[43mkwargs\u001b[49m\u001b[43m)\u001b[49m\n",
      "\u001b[1;31mFileNotFoundError\u001b[0m: [Errno 2] No such file or directory: 'neural_results/neural_test_batch_1_results.json'"
     ]
    }
   ],
   "source": [
    "for i in range(1, 5):\n",
    "    output_path = f\"neural_test_batch_{i}_results.json\"\n",
    "    generate_bert_results_for_batch(\n",
    "        batch_index=i,\n",
    "        model=model,\n",
    "        sampled_articles=sampled_articles,\n",
    "        article_embeddings=article_embeddings,\n",
    "        output_path=output_path\n",
    "    )\n"
   ]
  },
  {
   "cell_type": "code",
   "execution_count": 15,
   "id": "7708e149",
   "metadata": {},
   "outputs": [],
   "source": [
    "import json\n",
    "from evaluation_metrices import Evaluator\n",
    "\n",
    "def load_json(path):\n",
    "    with open(path, \"r\", encoding=\"utf-8\") as f:\n",
    "        return json.load(f)\n"
   ]
  },
  {
   "cell_type": "code",
   "execution_count": 16,
   "id": "d78810d8",
   "metadata": {},
   "outputs": [
    {
     "ename": "FileNotFoundError",
     "evalue": "[Errno 2] No such file or directory: 'neural_results/neural_test_batch_1_results.json'",
     "output_type": "error",
     "traceback": [
      "\u001b[1;31m---------------------------------------------------------------------------\u001b[0m",
      "\u001b[1;31mFileNotFoundError\u001b[0m                         Traceback (most recent call last)",
      "Cell \u001b[1;32mIn[16], line 6\u001b[0m\n\u001b[0;32m      3\u001b[0m test_predicted_results_path \u001b[38;5;241m=\u001b[39m \u001b[38;5;124mf\u001b[39m\u001b[38;5;124m\"\u001b[39m\u001b[38;5;124mneural_results/neural_test_batch_\u001b[39m\u001b[38;5;132;01m{\u001b[39;00mi\u001b[38;5;250m \u001b[39m\u001b[38;5;241m+\u001b[39m\u001b[38;5;250m \u001b[39m\u001b[38;5;241m1\u001b[39m\u001b[38;5;132;01m}\u001b[39;00m\u001b[38;5;124m_results.json\u001b[39m\u001b[38;5;124m\"\u001b[39m\n\u001b[0;32m      5\u001b[0m test_ground_truth \u001b[38;5;241m=\u001b[39m load_json(test_ground_truth_path)\n\u001b[1;32m----> 6\u001b[0m test_predicted \u001b[38;5;241m=\u001b[39m \u001b[43mload_json\u001b[49m\u001b[43m(\u001b[49m\u001b[43mtest_predicted_results_path\u001b[49m\u001b[43m)\u001b[49m\n\u001b[0;32m      8\u001b[0m evaluator_test \u001b[38;5;241m=\u001b[39m Evaluator(test_ground_truth, test_predicted)\n\u001b[0;32m     10\u001b[0m results_articles \u001b[38;5;241m=\u001b[39m evaluator_test\u001b[38;5;241m.\u001b[39mevaluate_metrics_for_articles(k\u001b[38;5;241m=\u001b[39m\u001b[38;5;241m10\u001b[39m)\n",
      "Cell \u001b[1;32mIn[15], line 5\u001b[0m, in \u001b[0;36mload_json\u001b[1;34m(path)\u001b[0m\n\u001b[0;32m      4\u001b[0m \u001b[38;5;28;01mdef\u001b[39;00m\u001b[38;5;250m \u001b[39m\u001b[38;5;21mload_json\u001b[39m(path):\n\u001b[1;32m----> 5\u001b[0m     \u001b[38;5;28;01mwith\u001b[39;00m \u001b[38;5;28;43mopen\u001b[39;49m\u001b[43m(\u001b[49m\u001b[43mpath\u001b[49m\u001b[43m,\u001b[49m\u001b[43m \u001b[49m\u001b[38;5;124;43m\"\u001b[39;49m\u001b[38;5;124;43mr\u001b[39;49m\u001b[38;5;124;43m\"\u001b[39;49m\u001b[43m,\u001b[49m\u001b[43m \u001b[49m\u001b[43mencoding\u001b[49m\u001b[38;5;241;43m=\u001b[39;49m\u001b[38;5;124;43m\"\u001b[39;49m\u001b[38;5;124;43mutf-8\u001b[39;49m\u001b[38;5;124;43m\"\u001b[39;49m\u001b[43m)\u001b[49m \u001b[38;5;28;01mas\u001b[39;00m f:\n\u001b[0;32m      6\u001b[0m         \u001b[38;5;28;01mreturn\u001b[39;00m json\u001b[38;5;241m.\u001b[39mload(f)\n",
      "File \u001b[1;32mc:\\Users\\admin\\AppData\\Local\\Programs\\Python\\Python312\\Lib\\site-packages\\IPython\\core\\interactiveshell.py:324\u001b[0m, in \u001b[0;36m_modified_open\u001b[1;34m(file, *args, **kwargs)\u001b[0m\n\u001b[0;32m    317\u001b[0m \u001b[38;5;28;01mif\u001b[39;00m file \u001b[38;5;129;01min\u001b[39;00m {\u001b[38;5;241m0\u001b[39m, \u001b[38;5;241m1\u001b[39m, \u001b[38;5;241m2\u001b[39m}:\n\u001b[0;32m    318\u001b[0m     \u001b[38;5;28;01mraise\u001b[39;00m \u001b[38;5;167;01mValueError\u001b[39;00m(\n\u001b[0;32m    319\u001b[0m         \u001b[38;5;124mf\u001b[39m\u001b[38;5;124m\"\u001b[39m\u001b[38;5;124mIPython won\u001b[39m\u001b[38;5;124m'\u001b[39m\u001b[38;5;124mt let you open fd=\u001b[39m\u001b[38;5;132;01m{\u001b[39;00mfile\u001b[38;5;132;01m}\u001b[39;00m\u001b[38;5;124m by default \u001b[39m\u001b[38;5;124m\"\u001b[39m\n\u001b[0;32m    320\u001b[0m         \u001b[38;5;124m\"\u001b[39m\u001b[38;5;124mas it is likely to crash IPython. If you know what you are doing, \u001b[39m\u001b[38;5;124m\"\u001b[39m\n\u001b[0;32m    321\u001b[0m         \u001b[38;5;124m\"\u001b[39m\u001b[38;5;124myou can use builtins\u001b[39m\u001b[38;5;124m'\u001b[39m\u001b[38;5;124m open.\u001b[39m\u001b[38;5;124m\"\u001b[39m\n\u001b[0;32m    322\u001b[0m     )\n\u001b[1;32m--> 324\u001b[0m \u001b[38;5;28;01mreturn\u001b[39;00m \u001b[43mio_open\u001b[49m\u001b[43m(\u001b[49m\u001b[43mfile\u001b[49m\u001b[43m,\u001b[49m\u001b[43m \u001b[49m\u001b[38;5;241;43m*\u001b[39;49m\u001b[43margs\u001b[49m\u001b[43m,\u001b[49m\u001b[43m \u001b[49m\u001b[38;5;241;43m*\u001b[39;49m\u001b[38;5;241;43m*\u001b[39;49m\u001b[43mkwargs\u001b[49m\u001b[43m)\u001b[49m\n",
      "\u001b[1;31mFileNotFoundError\u001b[0m: [Errno 2] No such file or directory: 'neural_results/neural_test_batch_1_results.json'"
     ]
    }
   ],
   "source": [
    "for i in range(4):\n",
    "    test_ground_truth_path = f\"datasets/final_correct_datasets/test/parsed_data_final_test_batch_{i + 1}.json\"\n",
    "    test_predicted_results_path = f\"neural_results/neural_test_batch_{i + 1}_results.json\"\n",
    "\n",
    "    test_ground_truth = load_json(test_ground_truth_path)\n",
    "    test_predicted = load_json(test_predicted_results_path)\n",
    "\n",
    "    evaluator_test = Evaluator(test_ground_truth, test_predicted)\n",
    "\n",
    "    results_articles = evaluator_test.evaluate_metrics_for_articles(k=10)\n",
    "    print(f\"\\n📘 Test results – Articles for test batch {i + 1}\")\n",
    "    evaluator_test.print_results(results_articles)\n",
    "\n",
    "    # Ako budeš imala snippet predikcije, možeš uključiti i ovo:\n",
    "    # results_snippets = evaluator_test.evaluate_metrics_for_snippets()\n",
    "    # print(f\"\\n📝 Snippet results for test batch {i + 1}\")\n",
    "    # evaluator_test.print_results(results_snippets)\n"
   ]
  },
  {
   "cell_type": "code",
   "execution_count": null,
   "id": "24c51e9e",
   "metadata": {},
   "outputs": [],
   "source": []
  }
 ],
 "metadata": {
  "kernelspec": {
   "display_name": "Python 3",
   "language": "python",
   "name": "python3"
  },
  "language_info": {
   "codemirror_mode": {
    "name": "ipython",
    "version": 3
   },
   "file_extension": ".py",
   "mimetype": "text/x-python",
   "name": "python",
   "nbconvert_exporter": "python",
   "pygments_lexer": "ipython3",
   "version": "3.12.7"
  }
 },
 "nbformat": 4,
 "nbformat_minor": 5
}
