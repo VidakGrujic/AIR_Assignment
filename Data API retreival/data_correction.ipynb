{
 "cells": [
  {
   "cell_type": "code",
   "execution_count": 1,
   "id": "5eaaedf4",
   "metadata": {},
   "outputs": [],
   "source": [
    "import json"
   ]
  },
  {
   "cell_type": "code",
   "execution_count": 2,
   "id": "5d2f4f46",
   "metadata": {},
   "outputs": [
    {
     "data": {
      "text/plain": [
       "{'id': '67e6cf2618b1e36f2e0000d0',\n",
       " 'body': 'Should Zotiraciclib be used for glioblastoma?',\n",
       " 'documents': ['http://www.ncbi.nlm.nih.gov/pubmed/38201490',\n",
       "  'http://www.ncbi.nlm.nih.gov/pubmed/37059335',\n",
       "  'http://www.ncbi.nlm.nih.gov/pubmed/38247816',\n",
       "  'http://www.ncbi.nlm.nih.gov/pubmed/39720100',\n",
       "  'http://www.ncbi.nlm.nih.gov/pubmed/38556451',\n",
       "  'http://www.ncbi.nlm.nih.gov/pubmed/37756182',\n",
       "  'http://www.ncbi.nlm.nih.gov/pubmed/38532602',\n",
       "  'http://www.ncbi.nlm.nih.gov/pubmed/38893130',\n",
       "  'http://www.ncbi.nlm.nih.gov/pubmed/37544033',\n",
       "  'http://www.ncbi.nlm.nih.gov/pubmed/37366303'],\n",
       " 'snippets': [{'beginSection': 'abstract',\n",
       "   'endSection': 'abstract',\n",
       "   'text': 'plan-Meier method was used to assess observed survival (OS). (3) Results: In 2020, there was an 8% drop in age-specific incidence rates, particularly for those over 50. Incidence rates plunged by 37% in April 2020 during the first COVID-19 peak but partially recovered by July. For all malignant brain tumors together, the two-year OS decreased by four percentage points (p.p.) in 2020 and three p.p. in 2019, compared to that in 2015-2018. Fewer patients (-9 p.p.) with glioblastoma underwent surgery, and the proportion of patients not receiving surgery, radiotherapy, or systemic therapy increased by six percentage points in 2020. (4) Conclusions: The COVID-19 pandemic profoundly impacted the diagnosis, treatment strategies, and survival of bra',\n",
       "   'document': 'http://www.ncbi.nlm.nih.gov/pubmed/38201490',\n",
       "   'offsetInBeginSection': 498,\n",
       "   'offsetInEndSection': 1248},\n",
       "  {'beginSection': 'title',\n",
       "   'endSection': 'title',\n",
       "   'text': 'for glioblastom',\n",
       "   'document': 'http://www.ncbi.nlm.nih.gov/pubmed/37059335',\n",
       "   'offsetInBeginSection': 67,\n",
       "   'offsetInEndSection': 83},\n",
       "  {'beginSection': 'abstract',\n",
       "   'endSection': 'abstract',\n",
       "   'text': 'glioblastoma is still a matter of extensive research and debate. This guideline aims to update the existing joint European consensus on delineation of the clinical target volume (CTV) in adult glioblastoma patients. The ESTRO Guidelines Committee identified 14 European experts in close interaction with the ESTRO clinical committee and EANO who discussed and analysed the body of evidence concerning contemporary glioblastoma target delineation, then took part in a two-step modified Delphi process to address open questions. Several key issues were identified and are discussed including i) pre-treatment steps and immobilisation, ii) target delineation and the use of standard and novel imaging techniques, and iii) technical aspects of treatment including planning techniques and fractionation. Based on the EORTC recommendation focusing on the resection cavity and residual enhancing regions on T1-sequences with the addition of a reduced 15\\xa0mm margin, special situations are presented with corresponding potential adaptations depending on the specific clinical situation. The EORTC consensus recommends a single clinical target volume definition based on postoperative contrast-enhanced T1 abnormalities, using isotropic margins without the need to cone down. A PTV margin based on the individual mask system and IGRT procedures available is advised; t',\n",
       "   'document': 'http://www.ncbi.nlm.nih.gov/pubmed/37059335',\n",
       "   'offsetInBeginSection': 22,\n",
       "   'offsetInEndSection': 1380},\n",
       "  {'beginSection': 'title',\n",
       "   'endSection': 'title',\n",
       "   'text': 'f Glioblasto',\n",
       "   'document': 'http://www.ncbi.nlm.nih.gov/pubmed/38247816',\n",
       "   'offsetInBeginSection': 52,\n",
       "   'offsetInEndSection': 64},\n",
       "  {'beginSection': 'abstract',\n",
       "   'endSection': 'abstract',\n",
       "   'text': 'Glioblastoma multiforme (GBM) represents the most common and aggressive malignant form of brain tumour in adults and is characterized by an extremely poor prognosis with dismal survival rates. Currently, expanding concepts concerning the pathophysiology of GBM are inextricably linked with neuroinflammatory phenomena. On account of this fact, the identification of novel pathomechanisms targeting neuroinflammation seems to be crucial in terms of yielding successful individual therapeutic strategies. In recent years, the pleiotropic growth factor progranulin (PGRN) has attracted significant attention in the neuroscience and oncological community regarding its neuroimmunomodulatory and oncogenic functions. This review of the literature summarizes and updates contemporary knowledge about PGRN, its associated receptors and signalling pathway involvement in GBM pathogenesis, indicating possible cellular and molecular mechanisms with potential diagnostic, prognostic and therapeutic targets in order to yield successful individual therapeutic strategies. After a review of the literature, we found that there are possible PGRN-targeted therapeutic approaches for implementation in GBM treatment algorithms both in preclinical and future clinical studies. Furthermore, PGRN-targeted therapies exerted their highest efficacy in combination with other established chemotherapeutic agents, such as temozolomide. The results of the analysis suggested that the possible implementation of routine determinations of PGRN and its associated receptors in tumour tissue and biofluids could serve as a diagnostic and prognostic biomarker of GBM. Furthermore, promising preclinical applications of PGRN-related findings should be investigated in clinical studies in order to create new diagnostic and t',\n",
       "   'document': 'http://www.ncbi.nlm.nih.gov/pubmed/38247816',\n",
       "   'offsetInBeginSection': 0,\n",
       "   'offsetInEndSection': 1795},\n",
       "  {'beginSection': 'title',\n",
       "   'endSection': 'title',\n",
       "   'text': 'glioblastoma',\n",
       "   'document': 'http://www.ncbi.nlm.nih.gov/pubmed/39720100',\n",
       "   'offsetInBeginSection': 61,\n",
       "   'offsetInEndSection': 73},\n",
       "  {'beginSection': 'abstract',\n",
       "   'endSection': 'abstract',\n",
       "   'text': 'glioblastoma on Magnetic Resonance Imaging (MRI) and Magnetic Resonance Spectroscopy (MRS). The limitations of MRI/MRS, may lead to delayed treatment with antiviral agents, which can result in increased morbidity and mortality. The possibility of viral encephali',\n",
       "   'document': 'http://www.ncbi.nlm.nih.gov/pubmed/39720100',\n",
       "   'offsetInBeginSection': 71,\n",
       "   'offsetInEndSection': 334},\n",
       "  {'beginSection': 'title',\n",
       "   'endSection': 'title',\n",
       "   'text': 'glioblastoma mouse model for',\n",
       "   'document': 'http://www.ncbi.nlm.nih.gov/pubmed/38556451',\n",
       "   'offsetInBeginSection': 31,\n",
       "   'offsetInEndSection': 59},\n",
       "  {'beginSection': 'abstract',\n",
       "   'endSection': 'abstract',\n",
       "   'text': 'Glioblastoma accounts almost 50% of all brain cancers, being the most common and lethal brain tumor in adults. Despite the current standard gold treatment based on surgery, chemotherapy, and radiotherapy, other treatment strategies are needed. Different in vitro models are currently used, including commercial cell lines, patient-derived cell lines, organoids, as well as in vivo models, being orthotopic xenografts the most used ones. In this chapter, we describe a standard protocol for the intracranial inoculation',\n",
       "   'document': 'http://www.ncbi.nlm.nih.gov/pubmed/38556451',\n",
       "   'offsetInBeginSection': 0,\n",
       "   'offsetInEndSection': 519},\n",
       "  {'beginSection': 'title',\n",
       "   'endSection': 'title',\n",
       "   'text': 'Glioblastom',\n",
       "   'document': 'http://www.ncbi.nlm.nih.gov/pubmed/37756182',\n",
       "   'offsetInBeginSection': 112,\n",
       "   'offsetInEndSection': 124},\n",
       "  {'beginSection': 'abstract',\n",
       "   'endSection': 'abstract',\n",
       "   'text': 'Glioblastoma is an aggressive brain cancer with a very poor prognosis in which less than 6% of patients survive more than five-year post-diagnosis. The outcome of this disease for many patients may be improved by early detection. This could provide clinicians with the information needed to take early action for treatment. In this work, we present the utilization of a non-invasive, fully volumetric ultrasonic imaging method to assess microvascular change during the evolution of glioblastoma in mice. Volumetric ultrasound localization microscopy (ULM) was used to observe statistically significant ( ) reduction in the appearance of functional vasculature over the course of three weeks. We also demonstrate evidence suggesting the reduction of vascular flow for vessels peripheral to the tumor. With an 82.5% consistency rate in acquiring high-quality vascular images, we demonstrate the possibility of volumetric ULM as a lon',\n",
       "   'document': 'http://www.ncbi.nlm.nih.gov/pubmed/37756182',\n",
       "   'offsetInBeginSection': 0,\n",
       "   'offsetInEndSection': 931},\n",
       "  {'beginSection': 'title',\n",
       "   'endSection': 'title',\n",
       "   'text': 'Glioblastoma',\n",
       "   'document': 'http://www.ncbi.nlm.nih.gov/pubmed/38532602',\n",
       "   'offsetInBeginSection': 69,\n",
       "   'offsetInEndSection': 81},\n",
       "  {'beginSection': 'abstract',\n",
       "   'endSection': 'abstract',\n",
       "   'text': \"actant; the oils were used in a range of 10-20% to boost POH's anticancer efficacy. The formulations' size, charge, and impact on the viability of glioma cell lines, ANGM-CSS and A172, were evaluated. The developed SNEDDS formulations ranged from 3 nm to 362 nm in size, with electronegative surface charges between 5.05 and 17.0 mV and polydispersity indices between 0.3 and 1.0. The findings indicated that the antiproliferative effect of POH-loaded Nanoemulsion (NE) could be used as a po\",\n",
       "   'document': 'http://www.ncbi.nlm.nih.gov/pubmed/38532602',\n",
       "   'offsetInBeginSection': 548,\n",
       "   'offsetInEndSection': 1039},\n",
       "  {'beginSection': 'title',\n",
       "   'endSection': 'title',\n",
       "   'text': 'for',\n",
       "   'document': 'http://www.ncbi.nlm.nih.gov/pubmed/38893130',\n",
       "   'offsetInBeginSection': 59,\n",
       "   'offsetInEndSection': 62},\n",
       "  {'beginSection': 'abstract',\n",
       "   'endSection': 'abstract',\n",
       "   'text': 'plans for brain and head/neck cancers enrolled in multi-institutional clinical trials utilizing a KBP approach. The evaluation was conducted on 203 glioblastoma (GBM) patients enrolled in NRG-BN001 and 70 nasopharyngeal carcinoma (NPC) patients enrolled in NRG-HN001. For each trial, fifty high-quality photon plans were utilized to build a KBP photon model. A KBP proton model was generated using intensity-modulated proton therapy (IMPT) plans generated on 50 patients originally treated with photon RT. These models were then applied to generate KBP plans for the remaining patients, which were compared against the submitted plans for quality evaluation, including in terms of protocol compliance, target coverage, and organ-at-risk (OAR) doses. RT plans generated by the KBP models were demonstrated to have superior quality compared to the submitted plans. KBP IMPT plans can decrease the variation of proton plan quality and could possibly be used as a tool for developing improved plans in the future. Additionally, the KBP tool prov',\n",
       "   'document': 'http://www.ncbi.nlm.nih.gov/pubmed/38893130',\n",
       "   'offsetInBeginSection': 217,\n",
       "   'offsetInEndSection': 1259},\n",
       "  {'beginSection': 'title',\n",
       "   'endSection': 'title',\n",
       "   'text': 'Glioblastoma',\n",
       "   'document': 'http://www.ncbi.nlm.nih.gov/pubmed/37544033',\n",
       "   'offsetInBeginSection': 61,\n",
       "   'offsetInEndSection': 73},\n",
       "  {'beginSection': 'abstract',\n",
       "   'endSection': 'abstract',\n",
       "   'text': 'Glioblastoma multiforme (GBM) is the most malignant type of glioma. GBM tumors grow rapidly, have a high degree of malignancy, and are characterized by a fast disease progression. Unfortunately, there is a lack of effective treatments. An effective strategy for the treatment of GBM would be to identify key biomarkers correlating with the occurrence and progression of GBM and developing these biomarkers into therapeutic targets. In this study, using integrated bioinformatics analysis, we identified differentially expressed genes (DEGs), including 130 genes that were upregulated in GBM compared to normal brain tissue, and 128 genes that were downregulated in GBM. Based on Gene Ontology enrichment analysis and Kyoto Encyclopedia of Genes and Genomes pathway analysis, these genes were associated with regulation of tumor cell adhesion, differentiation, morphology in GBM and were mainly enriched in Complement and coagulation cascades pathway. The Search Tool for the Retrieval of Interacting Genes (STRING) database was used to construct a Protein-Protein Interaction network. Ten hub genes were identified, including FN1, CD44, MYC, CDK1, SERPINE1, COL3A1, COL1A2, LOX, POSTN and EZH2, all of which were significantly upregulated in GBM, these results were confirmed by oncomine database exploration. Alteration analysis of hub genes found that patients with alteration in at least one of the hub genes showed shorter median survival times (p\\xa0=\\xa00.013) and shorter median disease-free survival times (p\\xa0=\\xa02.488E-3) than patients without alterations in any of the hub genes. Multiple tests for survival analysis showed that among individual hub genes only expression of LOX was correlated with patient survival (P < 0.05).GDS4467 data set was used to analyze the expression of LOX in gliomas with different degrees of malignancy, and it was found that the expression level of LOX was positively correlated with the malignant degree of gliomas.By analyzing GDS 4535 data set showed that the expression level of LOX was positively correlated with the differentiation degree of GBM cells CONCLUSION: This research suggests that FN1, CD44, MYC, CDK1, SERPINE1, COL3A1, COL1A2, LOX, POSTN and EZH2 are key genes in GBM. However, only LOX is correlated with patient survival and promotes glioblastoma cell differentiation and tumor recurrence. LOX may be a c',\n",
       "   'document': 'http://www.ncbi.nlm.nih.gov/pubmed/37544033',\n",
       "   'offsetInBeginSection': 0,\n",
       "   'offsetInEndSection': 2359},\n",
       "  {'beginSection': 'title',\n",
       "   'endSection': 'title',\n",
       "   'text': 'glioblastom',\n",
       "   'document': 'http://www.ncbi.nlm.nih.gov/pubmed/37366303',\n",
       "   'offsetInBeginSection': 33,\n",
       "   'offsetInEndSection': 45},\n",
       "  {'beginSection': 'abstract',\n",
       "   'endSection': 'abstract',\n",
       "   'text': \"glioblastoma multiforme (GBM) is a terminal and aggressive disease with a median survival of 15 months despite the most intensive surgery and chemotherapy. Preclinical models that accurately reproduce the tumor microenvironment are vital for developing new therapeutic alternatives. Understanding the complicated interactions between cells and their surroundings is essential to comprehend the tumor's microenvironment, however the monolayer cell culture approach falls short. Numerous approaches are used to develop GBM cells into tumor spheroids, while scaffold-based spheroids provides the opportunity to investigate the synergies between cells as well as cells and the matrix. This review summarizes the development of various scaffold-based GBM spheroid models and the pro\",\n",
       "   'document': 'http://www.ncbi.nlm.nih.gov/pubmed/37366303',\n",
       "   'offsetInBeginSection': 37,\n",
       "   'offsetInEndSection': 815}]}"
      ]
     },
     "execution_count": 2,
     "metadata": {},
     "output_type": "execute_result"
    }
   ],
   "source": [
    "with open('../formated_batch_4_results.json') as f:\n",
    "    data = json.load(f)\n",
    "\n",
    "data = data['questions']\n",
    "\n",
    "with open('../datasets/test/batch_4/BioASQ-task13bPhaseA-testset4') as ft:\n",
    "    original_data = json.load(ft)\n",
    "\n",
    "original_data = original_data['questions']\n",
    "\n",
    "data[0]"
   ]
  },
  {
   "cell_type": "code",
   "execution_count": 3,
   "id": "b5b43f8f",
   "metadata": {},
   "outputs": [
    {
     "data": {
      "text/plain": [
       "{'id': '67e6cf2618b1e36f2e0000d0',\n",
       " 'type': 'yesno',\n",
       " 'body': 'Should Zotiraciclib be used for glioblastoma?'}"
      ]
     },
     "execution_count": 3,
     "metadata": {},
     "output_type": "execute_result"
    }
   ],
   "source": [
    "original_data[0]"
   ]
  },
  {
   "cell_type": "code",
   "execution_count": 4,
   "id": "8e0886f2",
   "metadata": {},
   "outputs": [
    {
     "name": "stdout",
     "output_type": "stream",
     "text": [
      "Retreived questions len:  85\n",
      "Original questions len:  85\n"
     ]
    }
   ],
   "source": [
    "print(\"Retreived questions len: \", len(data))\n",
    "print(\"Original questions len: \", len(original_data))"
   ]
  },
  {
   "cell_type": "code",
   "execution_count": 5,
   "id": "662ffec4",
   "metadata": {},
   "outputs": [],
   "source": [
    "questions = []\n",
    "correctly_merged_questions = 0\n",
    "for retrived_question, original_question in zip(data, original_data):\n",
    "    if(retrived_question['id'] == original_question['id']):\n",
    "        question_entry = {\n",
    "            \"type\": original_question['type'],\n",
    "            \"body\": retrived_question['body'],\n",
    "            \"id\": retrived_question['id'],\n",
    "            \"ideal_answer\": \"\", \n",
    "            \"exact_answer\": [[\"\"]],\n",
    "            \"documents\": retrived_question['documents'],\n",
    "            'snippets': retrived_question['snippets']\n",
    "        }\n",
    "        questions.append(question_entry)\n",
    "        correctly_merged_questions += 1\n",
    "\n",
    "result = {\n",
    "    \"questions\": questions\n",
    "}\n",
    "\n",
    "with open(\"final_formated_batch_4.json\", \"w\") as file:\n",
    "    json.dump(result, file, indent=2)\n",
    "\n"
   ]
  }
 ],
 "metadata": {
  "kernelspec": {
   "display_name": "air_env",
   "language": "python",
   "name": "python3"
  },
  "language_info": {
   "codemirror_mode": {
    "name": "ipython",
    "version": 3
   },
   "file_extension": ".py",
   "mimetype": "text/x-python",
   "name": "python",
   "nbconvert_exporter": "python",
   "pygments_lexer": "ipython3",
   "version": "3.10.16"
  }
 },
 "nbformat": 4,
 "nbformat_minor": 5
}
